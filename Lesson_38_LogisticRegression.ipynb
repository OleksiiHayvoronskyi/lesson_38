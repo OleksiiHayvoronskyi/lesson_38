{
 "cells": [
  {
   "cell_type": "markdown",
   "source": [
    "### Завдання 1. На основі файлу **banking.csv**:\n",
    "* Сформуйте тестовий тренувальний датасет (розмір тестової частини 0.3)"
   ],
   "metadata": {
    "collapsed": false
   }
  },
  {
   "cell_type": "code",
   "execution_count": 154,
   "outputs": [
    {
     "data": {
      "text/plain": "       age          job  marital            education  default housing loan  \\\n0       44  blue-collar  married             basic.4y  unknown     yes   no   \n1       53   technician  married              unknown       no      no   no   \n2       28   management   single    university.degree       no     yes   no   \n3       39     services  married          high.school       no      no   no   \n4       55      retired  married             basic.4y       no     yes   no   \n...    ...          ...      ...                  ...      ...     ...  ...   \n41183   59      retired  married          high.school  unknown      no  yes   \n41184   31    housemaid  married             basic.4y  unknown      no   no   \n41185   42       admin.   single    university.degree  unknown     yes  yes   \n41186   48   technician  married  professional.course       no      no  yes   \n41187   25      student   single          high.school       no      no   no   \n\n         contact month day_of_week  ...  campaign  pdays  previous  \\\n0       cellular   aug         thu  ...         1    999         0   \n1       cellular   nov         fri  ...         1    999         0   \n2       cellular   jun         thu  ...         3      6         2   \n3       cellular   apr         fri  ...         2    999         0   \n4       cellular   aug         fri  ...         1      3         1   \n...          ...   ...         ...  ...       ...    ...       ...   \n41183  telephone   jun         thu  ...         1    999         0   \n41184  telephone   may         thu  ...         2    999         0   \n41185  telephone   may         wed  ...         3    999         0   \n41186  telephone   oct         tue  ...         2    999         0   \n41187  telephone   may         fri  ...         4    999         0   \n\n          poutcome emp_var_rate  cons_price_idx  cons_conf_idx  euribor3m  \\\n0      nonexistent          1.4          93.444          -36.1      4.963   \n1      nonexistent         -0.1          93.200          -42.0      4.021   \n2          success         -1.7          94.055          -39.8      0.729   \n3      nonexistent         -1.8          93.075          -47.1      1.405   \n4          success         -2.9          92.201          -31.4      0.869   \n...            ...          ...             ...            ...        ...   \n41183  nonexistent          1.4          94.465          -41.8      4.866   \n41184  nonexistent          1.1          93.994          -36.4      4.860   \n41185  nonexistent          1.1          93.994          -36.4      4.857   \n41186  nonexistent         -3.4          92.431          -26.9      0.742   \n41187  nonexistent          1.1          93.994          -36.4      4.859   \n\n       nr_employed  y  \n0           5228.1  0  \n1           5195.8  0  \n2           4991.6  1  \n3           5099.1  0  \n4           5076.2  1  \n...            ... ..  \n41183       5228.1  0  \n41184       5191.0  0  \n41185       5191.0  0  \n41186       5017.5  0  \n41187       5191.0  0  \n\n[41188 rows x 21 columns]",
      "text/html": "<div>\n<style scoped>\n    .dataframe tbody tr th:only-of-type {\n        vertical-align: middle;\n    }\n\n    .dataframe tbody tr th {\n        vertical-align: top;\n    }\n\n    .dataframe thead th {\n        text-align: right;\n    }\n</style>\n<table border=\"1\" class=\"dataframe\">\n  <thead>\n    <tr style=\"text-align: right;\">\n      <th></th>\n      <th>age</th>\n      <th>job</th>\n      <th>marital</th>\n      <th>education</th>\n      <th>default</th>\n      <th>housing</th>\n      <th>loan</th>\n      <th>contact</th>\n      <th>month</th>\n      <th>day_of_week</th>\n      <th>...</th>\n      <th>campaign</th>\n      <th>pdays</th>\n      <th>previous</th>\n      <th>poutcome</th>\n      <th>emp_var_rate</th>\n      <th>cons_price_idx</th>\n      <th>cons_conf_idx</th>\n      <th>euribor3m</th>\n      <th>nr_employed</th>\n      <th>y</th>\n    </tr>\n  </thead>\n  <tbody>\n    <tr>\n      <th>0</th>\n      <td>44</td>\n      <td>blue-collar</td>\n      <td>married</td>\n      <td>basic.4y</td>\n      <td>unknown</td>\n      <td>yes</td>\n      <td>no</td>\n      <td>cellular</td>\n      <td>aug</td>\n      <td>thu</td>\n      <td>...</td>\n      <td>1</td>\n      <td>999</td>\n      <td>0</td>\n      <td>nonexistent</td>\n      <td>1.4</td>\n      <td>93.444</td>\n      <td>-36.1</td>\n      <td>4.963</td>\n      <td>5228.1</td>\n      <td>0</td>\n    </tr>\n    <tr>\n      <th>1</th>\n      <td>53</td>\n      <td>technician</td>\n      <td>married</td>\n      <td>unknown</td>\n      <td>no</td>\n      <td>no</td>\n      <td>no</td>\n      <td>cellular</td>\n      <td>nov</td>\n      <td>fri</td>\n      <td>...</td>\n      <td>1</td>\n      <td>999</td>\n      <td>0</td>\n      <td>nonexistent</td>\n      <td>-0.1</td>\n      <td>93.200</td>\n      <td>-42.0</td>\n      <td>4.021</td>\n      <td>5195.8</td>\n      <td>0</td>\n    </tr>\n    <tr>\n      <th>2</th>\n      <td>28</td>\n      <td>management</td>\n      <td>single</td>\n      <td>university.degree</td>\n      <td>no</td>\n      <td>yes</td>\n      <td>no</td>\n      <td>cellular</td>\n      <td>jun</td>\n      <td>thu</td>\n      <td>...</td>\n      <td>3</td>\n      <td>6</td>\n      <td>2</td>\n      <td>success</td>\n      <td>-1.7</td>\n      <td>94.055</td>\n      <td>-39.8</td>\n      <td>0.729</td>\n      <td>4991.6</td>\n      <td>1</td>\n    </tr>\n    <tr>\n      <th>3</th>\n      <td>39</td>\n      <td>services</td>\n      <td>married</td>\n      <td>high.school</td>\n      <td>no</td>\n      <td>no</td>\n      <td>no</td>\n      <td>cellular</td>\n      <td>apr</td>\n      <td>fri</td>\n      <td>...</td>\n      <td>2</td>\n      <td>999</td>\n      <td>0</td>\n      <td>nonexistent</td>\n      <td>-1.8</td>\n      <td>93.075</td>\n      <td>-47.1</td>\n      <td>1.405</td>\n      <td>5099.1</td>\n      <td>0</td>\n    </tr>\n    <tr>\n      <th>4</th>\n      <td>55</td>\n      <td>retired</td>\n      <td>married</td>\n      <td>basic.4y</td>\n      <td>no</td>\n      <td>yes</td>\n      <td>no</td>\n      <td>cellular</td>\n      <td>aug</td>\n      <td>fri</td>\n      <td>...</td>\n      <td>1</td>\n      <td>3</td>\n      <td>1</td>\n      <td>success</td>\n      <td>-2.9</td>\n      <td>92.201</td>\n      <td>-31.4</td>\n      <td>0.869</td>\n      <td>5076.2</td>\n      <td>1</td>\n    </tr>\n    <tr>\n      <th>...</th>\n      <td>...</td>\n      <td>...</td>\n      <td>...</td>\n      <td>...</td>\n      <td>...</td>\n      <td>...</td>\n      <td>...</td>\n      <td>...</td>\n      <td>...</td>\n      <td>...</td>\n      <td>...</td>\n      <td>...</td>\n      <td>...</td>\n      <td>...</td>\n      <td>...</td>\n      <td>...</td>\n      <td>...</td>\n      <td>...</td>\n      <td>...</td>\n      <td>...</td>\n      <td>...</td>\n    </tr>\n    <tr>\n      <th>41183</th>\n      <td>59</td>\n      <td>retired</td>\n      <td>married</td>\n      <td>high.school</td>\n      <td>unknown</td>\n      <td>no</td>\n      <td>yes</td>\n      <td>telephone</td>\n      <td>jun</td>\n      <td>thu</td>\n      <td>...</td>\n      <td>1</td>\n      <td>999</td>\n      <td>0</td>\n      <td>nonexistent</td>\n      <td>1.4</td>\n      <td>94.465</td>\n      <td>-41.8</td>\n      <td>4.866</td>\n      <td>5228.1</td>\n      <td>0</td>\n    </tr>\n    <tr>\n      <th>41184</th>\n      <td>31</td>\n      <td>housemaid</td>\n      <td>married</td>\n      <td>basic.4y</td>\n      <td>unknown</td>\n      <td>no</td>\n      <td>no</td>\n      <td>telephone</td>\n      <td>may</td>\n      <td>thu</td>\n      <td>...</td>\n      <td>2</td>\n      <td>999</td>\n      <td>0</td>\n      <td>nonexistent</td>\n      <td>1.1</td>\n      <td>93.994</td>\n      <td>-36.4</td>\n      <td>4.860</td>\n      <td>5191.0</td>\n      <td>0</td>\n    </tr>\n    <tr>\n      <th>41185</th>\n      <td>42</td>\n      <td>admin.</td>\n      <td>single</td>\n      <td>university.degree</td>\n      <td>unknown</td>\n      <td>yes</td>\n      <td>yes</td>\n      <td>telephone</td>\n      <td>may</td>\n      <td>wed</td>\n      <td>...</td>\n      <td>3</td>\n      <td>999</td>\n      <td>0</td>\n      <td>nonexistent</td>\n      <td>1.1</td>\n      <td>93.994</td>\n      <td>-36.4</td>\n      <td>4.857</td>\n      <td>5191.0</td>\n      <td>0</td>\n    </tr>\n    <tr>\n      <th>41186</th>\n      <td>48</td>\n      <td>technician</td>\n      <td>married</td>\n      <td>professional.course</td>\n      <td>no</td>\n      <td>no</td>\n      <td>yes</td>\n      <td>telephone</td>\n      <td>oct</td>\n      <td>tue</td>\n      <td>...</td>\n      <td>2</td>\n      <td>999</td>\n      <td>0</td>\n      <td>nonexistent</td>\n      <td>-3.4</td>\n      <td>92.431</td>\n      <td>-26.9</td>\n      <td>0.742</td>\n      <td>5017.5</td>\n      <td>0</td>\n    </tr>\n    <tr>\n      <th>41187</th>\n      <td>25</td>\n      <td>student</td>\n      <td>single</td>\n      <td>high.school</td>\n      <td>no</td>\n      <td>no</td>\n      <td>no</td>\n      <td>telephone</td>\n      <td>may</td>\n      <td>fri</td>\n      <td>...</td>\n      <td>4</td>\n      <td>999</td>\n      <td>0</td>\n      <td>nonexistent</td>\n      <td>1.1</td>\n      <td>93.994</td>\n      <td>-36.4</td>\n      <td>4.859</td>\n      <td>5191.0</td>\n      <td>0</td>\n    </tr>\n  </tbody>\n</table>\n<p>41188 rows × 21 columns</p>\n</div>"
     },
     "execution_count": 154,
     "metadata": {},
     "output_type": "execute_result"
    }
   ],
   "source": [
    "import pandas as pd\n",
    "\n",
    "df = pd.read_csv('banking.csv')\n",
    "df\n"
   ],
   "metadata": {
    "collapsed": false
   }
  },
  {
   "cell_type": "markdown",
   "source": [
    "#### Analysing dataset."
   ],
   "metadata": {
    "collapsed": false
   }
  },
  {
   "cell_type": "code",
   "execution_count": 155,
   "outputs": [
    {
     "data": {
      "text/plain": "   age          job  marital          education  default housing loan  \\\n0   44  blue-collar  married           basic.4y  unknown     yes   no   \n1   53   technician  married            unknown       no      no   no   \n2   28   management   single  university.degree       no     yes   no   \n3   39     services  married        high.school       no      no   no   \n4   55      retired  married           basic.4y       no     yes   no   \n\n    contact month day_of_week  ...  campaign  pdays  previous     poutcome  \\\n0  cellular   aug         thu  ...         1    999         0  nonexistent   \n1  cellular   nov         fri  ...         1    999         0  nonexistent   \n2  cellular   jun         thu  ...         3      6         2      success   \n3  cellular   apr         fri  ...         2    999         0  nonexistent   \n4  cellular   aug         fri  ...         1      3         1      success   \n\n  emp_var_rate  cons_price_idx  cons_conf_idx  euribor3m  nr_employed  y  \n0          1.4          93.444          -36.1      4.963       5228.1  0  \n1         -0.1          93.200          -42.0      4.021       5195.8  0  \n2         -1.7          94.055          -39.8      0.729       4991.6  1  \n3         -1.8          93.075          -47.1      1.405       5099.1  0  \n4         -2.9          92.201          -31.4      0.869       5076.2  1  \n\n[5 rows x 21 columns]",
      "text/html": "<div>\n<style scoped>\n    .dataframe tbody tr th:only-of-type {\n        vertical-align: middle;\n    }\n\n    .dataframe tbody tr th {\n        vertical-align: top;\n    }\n\n    .dataframe thead th {\n        text-align: right;\n    }\n</style>\n<table border=\"1\" class=\"dataframe\">\n  <thead>\n    <tr style=\"text-align: right;\">\n      <th></th>\n      <th>age</th>\n      <th>job</th>\n      <th>marital</th>\n      <th>education</th>\n      <th>default</th>\n      <th>housing</th>\n      <th>loan</th>\n      <th>contact</th>\n      <th>month</th>\n      <th>day_of_week</th>\n      <th>...</th>\n      <th>campaign</th>\n      <th>pdays</th>\n      <th>previous</th>\n      <th>poutcome</th>\n      <th>emp_var_rate</th>\n      <th>cons_price_idx</th>\n      <th>cons_conf_idx</th>\n      <th>euribor3m</th>\n      <th>nr_employed</th>\n      <th>y</th>\n    </tr>\n  </thead>\n  <tbody>\n    <tr>\n      <th>0</th>\n      <td>44</td>\n      <td>blue-collar</td>\n      <td>married</td>\n      <td>basic.4y</td>\n      <td>unknown</td>\n      <td>yes</td>\n      <td>no</td>\n      <td>cellular</td>\n      <td>aug</td>\n      <td>thu</td>\n      <td>...</td>\n      <td>1</td>\n      <td>999</td>\n      <td>0</td>\n      <td>nonexistent</td>\n      <td>1.4</td>\n      <td>93.444</td>\n      <td>-36.1</td>\n      <td>4.963</td>\n      <td>5228.1</td>\n      <td>0</td>\n    </tr>\n    <tr>\n      <th>1</th>\n      <td>53</td>\n      <td>technician</td>\n      <td>married</td>\n      <td>unknown</td>\n      <td>no</td>\n      <td>no</td>\n      <td>no</td>\n      <td>cellular</td>\n      <td>nov</td>\n      <td>fri</td>\n      <td>...</td>\n      <td>1</td>\n      <td>999</td>\n      <td>0</td>\n      <td>nonexistent</td>\n      <td>-0.1</td>\n      <td>93.200</td>\n      <td>-42.0</td>\n      <td>4.021</td>\n      <td>5195.8</td>\n      <td>0</td>\n    </tr>\n    <tr>\n      <th>2</th>\n      <td>28</td>\n      <td>management</td>\n      <td>single</td>\n      <td>university.degree</td>\n      <td>no</td>\n      <td>yes</td>\n      <td>no</td>\n      <td>cellular</td>\n      <td>jun</td>\n      <td>thu</td>\n      <td>...</td>\n      <td>3</td>\n      <td>6</td>\n      <td>2</td>\n      <td>success</td>\n      <td>-1.7</td>\n      <td>94.055</td>\n      <td>-39.8</td>\n      <td>0.729</td>\n      <td>4991.6</td>\n      <td>1</td>\n    </tr>\n    <tr>\n      <th>3</th>\n      <td>39</td>\n      <td>services</td>\n      <td>married</td>\n      <td>high.school</td>\n      <td>no</td>\n      <td>no</td>\n      <td>no</td>\n      <td>cellular</td>\n      <td>apr</td>\n      <td>fri</td>\n      <td>...</td>\n      <td>2</td>\n      <td>999</td>\n      <td>0</td>\n      <td>nonexistent</td>\n      <td>-1.8</td>\n      <td>93.075</td>\n      <td>-47.1</td>\n      <td>1.405</td>\n      <td>5099.1</td>\n      <td>0</td>\n    </tr>\n    <tr>\n      <th>4</th>\n      <td>55</td>\n      <td>retired</td>\n      <td>married</td>\n      <td>basic.4y</td>\n      <td>no</td>\n      <td>yes</td>\n      <td>no</td>\n      <td>cellular</td>\n      <td>aug</td>\n      <td>fri</td>\n      <td>...</td>\n      <td>1</td>\n      <td>3</td>\n      <td>1</td>\n      <td>success</td>\n      <td>-2.9</td>\n      <td>92.201</td>\n      <td>-31.4</td>\n      <td>0.869</td>\n      <td>5076.2</td>\n      <td>1</td>\n    </tr>\n  </tbody>\n</table>\n<p>5 rows × 21 columns</p>\n</div>"
     },
     "execution_count": 155,
     "metadata": {},
     "output_type": "execute_result"
    }
   ],
   "source": [
    "# the first five rows of the loaded data.\n",
    "df.head()\n"
   ],
   "metadata": {
    "collapsed": false
   }
  },
  {
   "cell_type": "code",
   "execution_count": 156,
   "outputs": [
    {
     "data": {
      "text/plain": "age               0\njob               0\nmarital           0\neducation         0\ndefault           0\nhousing           0\nloan              0\ncontact           0\nmonth             0\nday_of_week       0\nduration          0\ncampaign          0\npdays             0\nprevious          0\npoutcome          0\nemp_var_rate      0\ncons_price_idx    0\ncons_conf_idx     0\neuribor3m         0\nnr_employed       0\ny                 0\ndtype: int64"
     },
     "execution_count": 156,
     "metadata": {},
     "output_type": "execute_result"
    }
   ],
   "source": [
    "# Checking for missing values in dataset.\n",
    "df.isnull().sum()\n"
   ],
   "metadata": {
    "collapsed": false
   }
  },
  {
   "cell_type": "code",
   "execution_count": 157,
   "outputs": [
    {
     "name": "stdout",
     "output_type": "stream",
     "text": [
      "['age', 'job', 'marital', 'education', 'default', 'housing', 'loan', 'contact', 'month', 'day_of_week', 'duration', 'campaign', 'pdays', 'previous', 'poutcome', 'emp_var_rate', 'cons_price_idx', 'cons_conf_idx', 'euribor3m', 'nr_employed', 'y']"
     ]
    }
   ],
   "source": [
    "# List of all columns.\n",
    "print(list(df.columns), end='')\n"
   ],
   "metadata": {
    "collapsed": false
   }
  },
  {
   "cell_type": "code",
   "execution_count": 158,
   "outputs": [
    {
     "name": "stdout",
     "output_type": "stream",
     "text": [
      "Dataset is important for our data analysis:\n"
     ]
    },
    {
     "data": {
      "text/plain": "           job  marital  default housing loan     poutcome  y\n0  blue-collar  married  unknown     yes   no  nonexistent  0\n1   technician  married       no      no   no  nonexistent  0\n2   management   single       no     yes   no      success  1\n3     services  married       no      no   no  nonexistent  0\n4      retired  married       no     yes   no      success  1",
      "text/html": "<div>\n<style scoped>\n    .dataframe tbody tr th:only-of-type {\n        vertical-align: middle;\n    }\n\n    .dataframe tbody tr th {\n        vertical-align: top;\n    }\n\n    .dataframe thead th {\n        text-align: right;\n    }\n</style>\n<table border=\"1\" class=\"dataframe\">\n  <thead>\n    <tr style=\"text-align: right;\">\n      <th></th>\n      <th>job</th>\n      <th>marital</th>\n      <th>default</th>\n      <th>housing</th>\n      <th>loan</th>\n      <th>poutcome</th>\n      <th>y</th>\n    </tr>\n  </thead>\n  <tbody>\n    <tr>\n      <th>0</th>\n      <td>blue-collar</td>\n      <td>married</td>\n      <td>unknown</td>\n      <td>yes</td>\n      <td>no</td>\n      <td>nonexistent</td>\n      <td>0</td>\n    </tr>\n    <tr>\n      <th>1</th>\n      <td>technician</td>\n      <td>married</td>\n      <td>no</td>\n      <td>no</td>\n      <td>no</td>\n      <td>nonexistent</td>\n      <td>0</td>\n    </tr>\n    <tr>\n      <th>2</th>\n      <td>management</td>\n      <td>single</td>\n      <td>no</td>\n      <td>yes</td>\n      <td>no</td>\n      <td>success</td>\n      <td>1</td>\n    </tr>\n    <tr>\n      <th>3</th>\n      <td>services</td>\n      <td>married</td>\n      <td>no</td>\n      <td>no</td>\n      <td>no</td>\n      <td>nonexistent</td>\n      <td>0</td>\n    </tr>\n    <tr>\n      <th>4</th>\n      <td>retired</td>\n      <td>married</td>\n      <td>no</td>\n      <td>yes</td>\n      <td>no</td>\n      <td>success</td>\n      <td>1</td>\n    </tr>\n  </tbody>\n</table>\n</div>"
     },
     "execution_count": 158,
     "metadata": {},
     "output_type": "execute_result"
    }
   ],
   "source": [
    "# Remove columns which not important for our main goal.\n",
    "df.drop(df.columns[[0, 3, 7, 8, 9, 10, 11, 12, 13, 15, 16, 17, 18, 19]], axis=1, inplace=True)\n",
    "print('Dataset is important for our data analysis:')\n",
    "df.head()\n"
   ],
   "metadata": {
    "collapsed": false
   }
  },
  {
   "cell_type": "code",
   "execution_count": 159,
   "outputs": [
    {
     "data": {
      "text/plain": "       y  job_admin.  job_blue-collar  job_entrepreneur  job_housemaid  \\\n0      0           0                1                 0              0   \n1      0           0                0                 0              0   \n2      1           0                0                 0              0   \n3      0           0                0                 0              0   \n4      1           0                0                 0              0   \n...   ..         ...              ...               ...            ...   \n41183  0           0                0                 0              0   \n41184  0           0                0                 0              1   \n41185  0           1                0                 0              0   \n41186  0           0                0                 0              0   \n41187  0           0                0                 0              0   \n\n       job_management  job_retired  job_self-employed  job_services  \\\n0                   0            0                  0             0   \n1                   0            0                  0             0   \n2                   1            0                  0             0   \n3                   0            0                  0             1   \n4                   0            1                  0             0   \n...               ...          ...                ...           ...   \n41183               0            1                  0             0   \n41184               0            0                  0             0   \n41185               0            0                  0             0   \n41186               0            0                  0             0   \n41187               0            0                  0             0   \n\n       job_student  ...  default_yes  housing_no  housing_unknown  \\\n0                0  ...            0           0                0   \n1                0  ...            0           1                0   \n2                0  ...            0           0                0   \n3                0  ...            0           1                0   \n4                0  ...            0           0                0   \n...            ...  ...          ...         ...              ...   \n41183            0  ...            0           1                0   \n41184            0  ...            0           1                0   \n41185            0  ...            0           0                0   \n41186            0  ...            0           1                0   \n41187            1  ...            0           1                0   \n\n       housing_yes  loan_no  loan_unknown  loan_yes  poutcome_failure  \\\n0                1        1             0         0                 0   \n1                0        1             0         0                 0   \n2                1        1             0         0                 0   \n3                0        1             0         0                 0   \n4                1        1             0         0                 0   \n...            ...      ...           ...       ...               ...   \n41183            0        0             0         1                 0   \n41184            0        1             0         0                 0   \n41185            1        0             0         1                 0   \n41186            0        0             0         1                 0   \n41187            0        1             0         0                 0   \n\n       poutcome_nonexistent  poutcome_success  \n0                         1                 0  \n1                         1                 0  \n2                         0                 1  \n3                         1                 0  \n4                         0                 1  \n...                     ...               ...  \n41183                     1                 0  \n41184                     1                 0  \n41185                     1                 0  \n41186                     1                 0  \n41187                     1                 0  \n\n[41188 rows x 29 columns]",
      "text/html": "<div>\n<style scoped>\n    .dataframe tbody tr th:only-of-type {\n        vertical-align: middle;\n    }\n\n    .dataframe tbody tr th {\n        vertical-align: top;\n    }\n\n    .dataframe thead th {\n        text-align: right;\n    }\n</style>\n<table border=\"1\" class=\"dataframe\">\n  <thead>\n    <tr style=\"text-align: right;\">\n      <th></th>\n      <th>y</th>\n      <th>job_admin.</th>\n      <th>job_blue-collar</th>\n      <th>job_entrepreneur</th>\n      <th>job_housemaid</th>\n      <th>job_management</th>\n      <th>job_retired</th>\n      <th>job_self-employed</th>\n      <th>job_services</th>\n      <th>job_student</th>\n      <th>...</th>\n      <th>default_yes</th>\n      <th>housing_no</th>\n      <th>housing_unknown</th>\n      <th>housing_yes</th>\n      <th>loan_no</th>\n      <th>loan_unknown</th>\n      <th>loan_yes</th>\n      <th>poutcome_failure</th>\n      <th>poutcome_nonexistent</th>\n      <th>poutcome_success</th>\n    </tr>\n  </thead>\n  <tbody>\n    <tr>\n      <th>0</th>\n      <td>0</td>\n      <td>0</td>\n      <td>1</td>\n      <td>0</td>\n      <td>0</td>\n      <td>0</td>\n      <td>0</td>\n      <td>0</td>\n      <td>0</td>\n      <td>0</td>\n      <td>...</td>\n      <td>0</td>\n      <td>0</td>\n      <td>0</td>\n      <td>1</td>\n      <td>1</td>\n      <td>0</td>\n      <td>0</td>\n      <td>0</td>\n      <td>1</td>\n      <td>0</td>\n    </tr>\n    <tr>\n      <th>1</th>\n      <td>0</td>\n      <td>0</td>\n      <td>0</td>\n      <td>0</td>\n      <td>0</td>\n      <td>0</td>\n      <td>0</td>\n      <td>0</td>\n      <td>0</td>\n      <td>0</td>\n      <td>...</td>\n      <td>0</td>\n      <td>1</td>\n      <td>0</td>\n      <td>0</td>\n      <td>1</td>\n      <td>0</td>\n      <td>0</td>\n      <td>0</td>\n      <td>1</td>\n      <td>0</td>\n    </tr>\n    <tr>\n      <th>2</th>\n      <td>1</td>\n      <td>0</td>\n      <td>0</td>\n      <td>0</td>\n      <td>0</td>\n      <td>1</td>\n      <td>0</td>\n      <td>0</td>\n      <td>0</td>\n      <td>0</td>\n      <td>...</td>\n      <td>0</td>\n      <td>0</td>\n      <td>0</td>\n      <td>1</td>\n      <td>1</td>\n      <td>0</td>\n      <td>0</td>\n      <td>0</td>\n      <td>0</td>\n      <td>1</td>\n    </tr>\n    <tr>\n      <th>3</th>\n      <td>0</td>\n      <td>0</td>\n      <td>0</td>\n      <td>0</td>\n      <td>0</td>\n      <td>0</td>\n      <td>0</td>\n      <td>0</td>\n      <td>1</td>\n      <td>0</td>\n      <td>...</td>\n      <td>0</td>\n      <td>1</td>\n      <td>0</td>\n      <td>0</td>\n      <td>1</td>\n      <td>0</td>\n      <td>0</td>\n      <td>0</td>\n      <td>1</td>\n      <td>0</td>\n    </tr>\n    <tr>\n      <th>4</th>\n      <td>1</td>\n      <td>0</td>\n      <td>0</td>\n      <td>0</td>\n      <td>0</td>\n      <td>0</td>\n      <td>1</td>\n      <td>0</td>\n      <td>0</td>\n      <td>0</td>\n      <td>...</td>\n      <td>0</td>\n      <td>0</td>\n      <td>0</td>\n      <td>1</td>\n      <td>1</td>\n      <td>0</td>\n      <td>0</td>\n      <td>0</td>\n      <td>0</td>\n      <td>1</td>\n    </tr>\n    <tr>\n      <th>...</th>\n      <td>...</td>\n      <td>...</td>\n      <td>...</td>\n      <td>...</td>\n      <td>...</td>\n      <td>...</td>\n      <td>...</td>\n      <td>...</td>\n      <td>...</td>\n      <td>...</td>\n      <td>...</td>\n      <td>...</td>\n      <td>...</td>\n      <td>...</td>\n      <td>...</td>\n      <td>...</td>\n      <td>...</td>\n      <td>...</td>\n      <td>...</td>\n      <td>...</td>\n      <td>...</td>\n    </tr>\n    <tr>\n      <th>41183</th>\n      <td>0</td>\n      <td>0</td>\n      <td>0</td>\n      <td>0</td>\n      <td>0</td>\n      <td>0</td>\n      <td>1</td>\n      <td>0</td>\n      <td>0</td>\n      <td>0</td>\n      <td>...</td>\n      <td>0</td>\n      <td>1</td>\n      <td>0</td>\n      <td>0</td>\n      <td>0</td>\n      <td>0</td>\n      <td>1</td>\n      <td>0</td>\n      <td>1</td>\n      <td>0</td>\n    </tr>\n    <tr>\n      <th>41184</th>\n      <td>0</td>\n      <td>0</td>\n      <td>0</td>\n      <td>0</td>\n      <td>1</td>\n      <td>0</td>\n      <td>0</td>\n      <td>0</td>\n      <td>0</td>\n      <td>0</td>\n      <td>...</td>\n      <td>0</td>\n      <td>1</td>\n      <td>0</td>\n      <td>0</td>\n      <td>1</td>\n      <td>0</td>\n      <td>0</td>\n      <td>0</td>\n      <td>1</td>\n      <td>0</td>\n    </tr>\n    <tr>\n      <th>41185</th>\n      <td>0</td>\n      <td>1</td>\n      <td>0</td>\n      <td>0</td>\n      <td>0</td>\n      <td>0</td>\n      <td>0</td>\n      <td>0</td>\n      <td>0</td>\n      <td>0</td>\n      <td>...</td>\n      <td>0</td>\n      <td>0</td>\n      <td>0</td>\n      <td>1</td>\n      <td>0</td>\n      <td>0</td>\n      <td>1</td>\n      <td>0</td>\n      <td>1</td>\n      <td>0</td>\n    </tr>\n    <tr>\n      <th>41186</th>\n      <td>0</td>\n      <td>0</td>\n      <td>0</td>\n      <td>0</td>\n      <td>0</td>\n      <td>0</td>\n      <td>0</td>\n      <td>0</td>\n      <td>0</td>\n      <td>0</td>\n      <td>...</td>\n      <td>0</td>\n      <td>1</td>\n      <td>0</td>\n      <td>0</td>\n      <td>0</td>\n      <td>0</td>\n      <td>1</td>\n      <td>0</td>\n      <td>1</td>\n      <td>0</td>\n    </tr>\n    <tr>\n      <th>41187</th>\n      <td>0</td>\n      <td>0</td>\n      <td>0</td>\n      <td>0</td>\n      <td>0</td>\n      <td>0</td>\n      <td>0</td>\n      <td>0</td>\n      <td>0</td>\n      <td>1</td>\n      <td>...</td>\n      <td>0</td>\n      <td>1</td>\n      <td>0</td>\n      <td>0</td>\n      <td>1</td>\n      <td>0</td>\n      <td>0</td>\n      <td>0</td>\n      <td>1</td>\n      <td>0</td>\n    </tr>\n  </tbody>\n</table>\n<p>41188 rows × 29 columns</p>\n</div>"
     },
     "execution_count": 159,
     "metadata": {},
     "output_type": "execute_result"
    }
   ],
   "source": [
    "# Data encoding for further analysis.\n",
    "# Transformation of categorical variables into fictitious ones.\n",
    "data = pd.get_dummies(df, columns=['job', 'marital', 'default', 'housing', 'loan', 'poutcome'])\n",
    "data\n"
   ],
   "metadata": {
    "collapsed": false
   }
  },
  {
   "cell_type": "code",
   "execution_count": 160,
   "outputs": [
    {
     "data": {
      "text/plain": "Index(['y', 'job_admin.', 'job_blue-collar', 'job_entrepreneur',\n       'job_housemaid', 'job_management', 'job_retired', 'job_self-employed',\n       'job_services', 'job_student', 'job_technician', 'job_unemployed',\n       'job_unknown', 'marital_divorced', 'marital_married', 'marital_single',\n       'marital_unknown', 'default_no', 'default_unknown', 'default_yes',\n       'housing_no', 'housing_unknown', 'housing_yes', 'loan_no',\n       'loan_unknown', 'loan_yes', 'poutcome_failure', 'poutcome_nonexistent',\n       'poutcome_success'],\n      dtype='object')"
     },
     "execution_count": 160,
     "metadata": {},
     "output_type": "execute_result"
    }
   ],
   "source": [
    "# For each possible value has been created a new column in the dataset.\n",
    "data.columns\n"
   ],
   "metadata": {
    "collapsed": false
   }
  },
  {
   "cell_type": "code",
   "execution_count": 161,
   "outputs": [
    {
     "data": {
      "text/plain": "       y  job_admin.  job_blue-collar  job_entrepreneur  job_housemaid  \\\n0      0           0                1                 0              0   \n1      0           0                0                 0              0   \n2      1           0                0                 0              0   \n3      0           0                0                 0              0   \n4      1           0                0                 0              0   \n...   ..         ...              ...               ...            ...   \n41183  0           0                0                 0              0   \n41184  0           0                0                 0              1   \n41185  0           1                0                 0              0   \n41186  0           0                0                 0              0   \n41187  0           0                0                 0              0   \n\n       job_management  job_retired  job_self-employed  job_services  \\\n0                   0            0                  0             0   \n1                   0            0                  0             0   \n2                   1            0                  0             0   \n3                   0            0                  0             1   \n4                   0            1                  0             0   \n...               ...          ...                ...           ...   \n41183               0            1                  0             0   \n41184               0            0                  0             0   \n41185               0            0                  0             0   \n41186               0            0                  0             0   \n41187               0            0                  0             0   \n\n       job_student  ...  default_yes  housing_no  housing_unknown  \\\n0                0  ...            0           0                0   \n1                0  ...            0           1                0   \n2                0  ...            0           0                0   \n3                0  ...            0           1                0   \n4                0  ...            0           0                0   \n...            ...  ...          ...         ...              ...   \n41183            0  ...            0           1                0   \n41184            0  ...            0           1                0   \n41185            0  ...            0           0                0   \n41186            0  ...            0           1                0   \n41187            1  ...            0           1                0   \n\n       housing_yes  loan_no  loan_unknown  loan_yes  poutcome_failure  \\\n0                1        1             0         0                 0   \n1                0        1             0         0                 0   \n2                1        1             0         0                 0   \n3                0        1             0         0                 0   \n4                1        1             0         0                 0   \n...            ...      ...           ...       ...               ...   \n41183            0        0             0         1                 0   \n41184            0        1             0         0                 0   \n41185            1        0             0         1                 0   \n41186            0        0             0         1                 0   \n41187            0        1             0         0                 0   \n\n       poutcome_nonexistent  poutcome_success  \n0                         1                 0  \n1                         1                 0  \n2                         0                 1  \n3                         1                 0  \n4                         0                 1  \n...                     ...               ...  \n41183                     1                 0  \n41184                     1                 0  \n41185                     1                 0  \n41186                     1                 0  \n41187                     1                 0  \n\n[41188 rows x 29 columns]",
      "text/html": "<div>\n<style scoped>\n    .dataframe tbody tr th:only-of-type {\n        vertical-align: middle;\n    }\n\n    .dataframe tbody tr th {\n        vertical-align: top;\n    }\n\n    .dataframe thead th {\n        text-align: right;\n    }\n</style>\n<table border=\"1\" class=\"dataframe\">\n  <thead>\n    <tr style=\"text-align: right;\">\n      <th></th>\n      <th>y</th>\n      <th>job_admin.</th>\n      <th>job_blue-collar</th>\n      <th>job_entrepreneur</th>\n      <th>job_housemaid</th>\n      <th>job_management</th>\n      <th>job_retired</th>\n      <th>job_self-employed</th>\n      <th>job_services</th>\n      <th>job_student</th>\n      <th>...</th>\n      <th>default_yes</th>\n      <th>housing_no</th>\n      <th>housing_unknown</th>\n      <th>housing_yes</th>\n      <th>loan_no</th>\n      <th>loan_unknown</th>\n      <th>loan_yes</th>\n      <th>poutcome_failure</th>\n      <th>poutcome_nonexistent</th>\n      <th>poutcome_success</th>\n    </tr>\n  </thead>\n  <tbody>\n    <tr>\n      <th>0</th>\n      <td>0</td>\n      <td>0</td>\n      <td>1</td>\n      <td>0</td>\n      <td>0</td>\n      <td>0</td>\n      <td>0</td>\n      <td>0</td>\n      <td>0</td>\n      <td>0</td>\n      <td>...</td>\n      <td>0</td>\n      <td>0</td>\n      <td>0</td>\n      <td>1</td>\n      <td>1</td>\n      <td>0</td>\n      <td>0</td>\n      <td>0</td>\n      <td>1</td>\n      <td>0</td>\n    </tr>\n    <tr>\n      <th>1</th>\n      <td>0</td>\n      <td>0</td>\n      <td>0</td>\n      <td>0</td>\n      <td>0</td>\n      <td>0</td>\n      <td>0</td>\n      <td>0</td>\n      <td>0</td>\n      <td>0</td>\n      <td>...</td>\n      <td>0</td>\n      <td>1</td>\n      <td>0</td>\n      <td>0</td>\n      <td>1</td>\n      <td>0</td>\n      <td>0</td>\n      <td>0</td>\n      <td>1</td>\n      <td>0</td>\n    </tr>\n    <tr>\n      <th>2</th>\n      <td>1</td>\n      <td>0</td>\n      <td>0</td>\n      <td>0</td>\n      <td>0</td>\n      <td>1</td>\n      <td>0</td>\n      <td>0</td>\n      <td>0</td>\n      <td>0</td>\n      <td>...</td>\n      <td>0</td>\n      <td>0</td>\n      <td>0</td>\n      <td>1</td>\n      <td>1</td>\n      <td>0</td>\n      <td>0</td>\n      <td>0</td>\n      <td>0</td>\n      <td>1</td>\n    </tr>\n    <tr>\n      <th>3</th>\n      <td>0</td>\n      <td>0</td>\n      <td>0</td>\n      <td>0</td>\n      <td>0</td>\n      <td>0</td>\n      <td>0</td>\n      <td>0</td>\n      <td>1</td>\n      <td>0</td>\n      <td>...</td>\n      <td>0</td>\n      <td>1</td>\n      <td>0</td>\n      <td>0</td>\n      <td>1</td>\n      <td>0</td>\n      <td>0</td>\n      <td>0</td>\n      <td>1</td>\n      <td>0</td>\n    </tr>\n    <tr>\n      <th>4</th>\n      <td>1</td>\n      <td>0</td>\n      <td>0</td>\n      <td>0</td>\n      <td>0</td>\n      <td>0</td>\n      <td>1</td>\n      <td>0</td>\n      <td>0</td>\n      <td>0</td>\n      <td>...</td>\n      <td>0</td>\n      <td>0</td>\n      <td>0</td>\n      <td>1</td>\n      <td>1</td>\n      <td>0</td>\n      <td>0</td>\n      <td>0</td>\n      <td>0</td>\n      <td>1</td>\n    </tr>\n    <tr>\n      <th>...</th>\n      <td>...</td>\n      <td>...</td>\n      <td>...</td>\n      <td>...</td>\n      <td>...</td>\n      <td>...</td>\n      <td>...</td>\n      <td>...</td>\n      <td>...</td>\n      <td>...</td>\n      <td>...</td>\n      <td>...</td>\n      <td>...</td>\n      <td>...</td>\n      <td>...</td>\n      <td>...</td>\n      <td>...</td>\n      <td>...</td>\n      <td>...</td>\n      <td>...</td>\n      <td>...</td>\n    </tr>\n    <tr>\n      <th>41183</th>\n      <td>0</td>\n      <td>0</td>\n      <td>0</td>\n      <td>0</td>\n      <td>0</td>\n      <td>0</td>\n      <td>1</td>\n      <td>0</td>\n      <td>0</td>\n      <td>0</td>\n      <td>...</td>\n      <td>0</td>\n      <td>1</td>\n      <td>0</td>\n      <td>0</td>\n      <td>0</td>\n      <td>0</td>\n      <td>1</td>\n      <td>0</td>\n      <td>1</td>\n      <td>0</td>\n    </tr>\n    <tr>\n      <th>41184</th>\n      <td>0</td>\n      <td>0</td>\n      <td>0</td>\n      <td>0</td>\n      <td>1</td>\n      <td>0</td>\n      <td>0</td>\n      <td>0</td>\n      <td>0</td>\n      <td>0</td>\n      <td>...</td>\n      <td>0</td>\n      <td>1</td>\n      <td>0</td>\n      <td>0</td>\n      <td>1</td>\n      <td>0</td>\n      <td>0</td>\n      <td>0</td>\n      <td>1</td>\n      <td>0</td>\n    </tr>\n    <tr>\n      <th>41185</th>\n      <td>0</td>\n      <td>1</td>\n      <td>0</td>\n      <td>0</td>\n      <td>0</td>\n      <td>0</td>\n      <td>0</td>\n      <td>0</td>\n      <td>0</td>\n      <td>0</td>\n      <td>...</td>\n      <td>0</td>\n      <td>0</td>\n      <td>0</td>\n      <td>1</td>\n      <td>0</td>\n      <td>0</td>\n      <td>1</td>\n      <td>0</td>\n      <td>1</td>\n      <td>0</td>\n    </tr>\n    <tr>\n      <th>41186</th>\n      <td>0</td>\n      <td>0</td>\n      <td>0</td>\n      <td>0</td>\n      <td>0</td>\n      <td>0</td>\n      <td>0</td>\n      <td>0</td>\n      <td>0</td>\n      <td>0</td>\n      <td>...</td>\n      <td>0</td>\n      <td>1</td>\n      <td>0</td>\n      <td>0</td>\n      <td>0</td>\n      <td>0</td>\n      <td>1</td>\n      <td>0</td>\n      <td>1</td>\n      <td>0</td>\n    </tr>\n    <tr>\n      <th>41187</th>\n      <td>0</td>\n      <td>0</td>\n      <td>0</td>\n      <td>0</td>\n      <td>0</td>\n      <td>0</td>\n      <td>0</td>\n      <td>0</td>\n      <td>0</td>\n      <td>1</td>\n      <td>...</td>\n      <td>0</td>\n      <td>1</td>\n      <td>0</td>\n      <td>0</td>\n      <td>1</td>\n      <td>0</td>\n      <td>0</td>\n      <td>0</td>\n      <td>1</td>\n      <td>0</td>\n    </tr>\n  </tbody>\n</table>\n<p>41188 rows × 29 columns</p>\n</div>"
     },
     "execution_count": 161,
     "metadata": {},
     "output_type": "execute_result"
    }
   ],
   "source": [
    "data\n"
   ],
   "metadata": {
    "collapsed": false
   }
  },
  {
   "cell_type": "code",
   "execution_count": 162,
   "outputs": [
    {
     "name": "stdout",
     "output_type": "stream",
     "text": [
      "Unknown columns:\n"
     ]
    },
    {
     "data": {
      "text/plain": "Index(['job_unknown', 'marital_unknown', 'default_unknown', 'housing_unknown',\n       'loan_unknown'],\n      dtype='object')"
     },
     "execution_count": 162,
     "metadata": {},
     "output_type": "execute_result"
    }
   ],
   "source": [
    "# List of unknown columns.\n",
    "print('Unknown columns:')\n",
    "data.columns[[12, 16, 18, 21, 24]]\n"
   ],
   "metadata": {
    "collapsed": false
   }
  },
  {
   "cell_type": "code",
   "execution_count": 163,
   "outputs": [],
   "source": [
    "# Unknown column should be dropped.\n",
    "data.drop(data.columns[[12, 16, 18, 21, 24]], axis=1, inplace=True)\n"
   ],
   "metadata": {
    "collapsed": false
   }
  },
  {
   "cell_type": "markdown",
   "source": [
    "#### Final dataset which will be used for creating models."
   ],
   "metadata": {
    "collapsed": false
   }
  },
  {
   "cell_type": "code",
   "execution_count": 164,
   "outputs": [
    {
     "name": "stdout",
     "output_type": "stream",
     "text": [
      "All columns which will be used for further analysis\n"
     ]
    },
    {
     "data": {
      "text/plain": "Index(['y', 'job_admin.', 'job_blue-collar', 'job_entrepreneur',\n       'job_housemaid', 'job_management', 'job_retired', 'job_self-employed',\n       'job_services', 'job_student', 'job_technician', 'job_unemployed',\n       'marital_divorced', 'marital_married', 'marital_single', 'default_no',\n       'default_yes', 'housing_no', 'housing_yes', 'loan_no', 'loan_yes',\n       'poutcome_failure', 'poutcome_nonexistent', 'poutcome_success'],\n      dtype='object')"
     },
     "execution_count": 164,
     "metadata": {},
     "output_type": "execute_result"
    }
   ],
   "source": [
    "print('All columns which will be used for further analysis')\n",
    "data.columns\n"
   ],
   "metadata": {
    "collapsed": false
   }
  },
  {
   "cell_type": "markdown",
   "source": [
    "### Завдання 2.\n",
    "* Застосуйте логістичну регресію для прогнозування цільової метрики (ймовірність того, що клієнт відкриє вклад у банку)."
   ],
   "metadata": {
    "collapsed": false
   }
  },
  {
   "cell_type": "code",
   "execution_count": 165,
   "outputs": [
    {
     "name": "stdout",
     "output_type": "stream",
     "text": [
      "Training and Testing datasets have been created.\n"
     ]
    }
   ],
   "source": [
    "from sklearn.model_selection import train_test_split\n",
    "\n",
    "\n",
    "# Creating arrays.\n",
    "X = data.iloc[:, 1:]\n",
    "y = data.iloc[:,0]\n",
    "\n",
    "# Splitting into the training set and the testing set.\n",
    "X_train, X_test, y_train, y_test = train_test_split(X, y, test_size=0.3, random_state=0)\n",
    "print('Training and Testing datasets have been created.')\n"
   ],
   "metadata": {
    "collapsed": false
   }
  },
  {
   "cell_type": "code",
   "execution_count": 166,
   "outputs": [
    {
     "data": {
      "text/plain": "LogisticRegression()",
      "text/html": "<style>#sk-container-id-3 {color: black;background-color: white;}#sk-container-id-3 pre{padding: 0;}#sk-container-id-3 div.sk-toggleable {background-color: white;}#sk-container-id-3 label.sk-toggleable__label {cursor: pointer;display: block;width: 100%;margin-bottom: 0;padding: 0.3em;box-sizing: border-box;text-align: center;}#sk-container-id-3 label.sk-toggleable__label-arrow:before {content: \"▸\";float: left;margin-right: 0.25em;color: #696969;}#sk-container-id-3 label.sk-toggleable__label-arrow:hover:before {color: black;}#sk-container-id-3 div.sk-estimator:hover label.sk-toggleable__label-arrow:before {color: black;}#sk-container-id-3 div.sk-toggleable__content {max-height: 0;max-width: 0;overflow: hidden;text-align: left;background-color: #f0f8ff;}#sk-container-id-3 div.sk-toggleable__content pre {margin: 0.2em;color: black;border-radius: 0.25em;background-color: #f0f8ff;}#sk-container-id-3 input.sk-toggleable__control:checked~div.sk-toggleable__content {max-height: 200px;max-width: 100%;overflow: auto;}#sk-container-id-3 input.sk-toggleable__control:checked~label.sk-toggleable__label-arrow:before {content: \"▾\";}#sk-container-id-3 div.sk-estimator input.sk-toggleable__control:checked~label.sk-toggleable__label {background-color: #d4ebff;}#sk-container-id-3 div.sk-label input.sk-toggleable__control:checked~label.sk-toggleable__label {background-color: #d4ebff;}#sk-container-id-3 input.sk-hidden--visually {border: 0;clip: rect(1px 1px 1px 1px);clip: rect(1px, 1px, 1px, 1px);height: 1px;margin: -1px;overflow: hidden;padding: 0;position: absolute;width: 1px;}#sk-container-id-3 div.sk-estimator {font-family: monospace;background-color: #f0f8ff;border: 1px dotted black;border-radius: 0.25em;box-sizing: border-box;margin-bottom: 0.5em;}#sk-container-id-3 div.sk-estimator:hover {background-color: #d4ebff;}#sk-container-id-3 div.sk-parallel-item::after {content: \"\";width: 100%;border-bottom: 1px solid gray;flex-grow: 1;}#sk-container-id-3 div.sk-label:hover label.sk-toggleable__label {background-color: #d4ebff;}#sk-container-id-3 div.sk-serial::before {content: \"\";position: absolute;border-left: 1px solid gray;box-sizing: border-box;top: 0;bottom: 0;left: 50%;z-index: 0;}#sk-container-id-3 div.sk-serial {display: flex;flex-direction: column;align-items: center;background-color: white;padding-right: 0.2em;padding-left: 0.2em;position: relative;}#sk-container-id-3 div.sk-item {position: relative;z-index: 1;}#sk-container-id-3 div.sk-parallel {display: flex;align-items: stretch;justify-content: center;background-color: white;position: relative;}#sk-container-id-3 div.sk-item::before, #sk-container-id-3 div.sk-parallel-item::before {content: \"\";position: absolute;border-left: 1px solid gray;box-sizing: border-box;top: 0;bottom: 0;left: 50%;z-index: -1;}#sk-container-id-3 div.sk-parallel-item {display: flex;flex-direction: column;z-index: 1;position: relative;background-color: white;}#sk-container-id-3 div.sk-parallel-item:first-child::after {align-self: flex-end;width: 50%;}#sk-container-id-3 div.sk-parallel-item:last-child::after {align-self: flex-start;width: 50%;}#sk-container-id-3 div.sk-parallel-item:only-child::after {width: 0;}#sk-container-id-3 div.sk-dashed-wrapped {border: 1px dashed gray;margin: 0 0.4em 0.5em 0.4em;box-sizing: border-box;padding-bottom: 0.4em;background-color: white;}#sk-container-id-3 div.sk-label label {font-family: monospace;font-weight: bold;display: inline-block;line-height: 1.2em;}#sk-container-id-3 div.sk-label-container {text-align: center;}#sk-container-id-3 div.sk-container {/* jupyter's `normalize.less` sets `[hidden] { display: none; }` but bootstrap.min.css set `[hidden] { display: none !important; }` so we also need the `!important` here to be able to override the default hidden behavior on the sphinx rendered scikit-learn.org. See: https://github.com/scikit-learn/scikit-learn/issues/21755 */display: inline-block !important;position: relative;}#sk-container-id-3 div.sk-text-repr-fallback {display: none;}</style><div id=\"sk-container-id-3\" class=\"sk-top-container\"><div class=\"sk-text-repr-fallback\"><pre>LogisticRegression()</pre><b>In a Jupyter environment, please rerun this cell to show the HTML representation or trust the notebook. <br />On GitHub, the HTML representation is unable to render, please try loading this page with nbviewer.org.</b></div><div class=\"sk-container\" hidden><div class=\"sk-item\"><div class=\"sk-estimator sk-toggleable\"><input class=\"sk-toggleable__control sk-hidden--visually\" id=\"sk-estimator-id-3\" type=\"checkbox\" checked><label for=\"sk-estimator-id-3\" class=\"sk-toggleable__label sk-toggleable__label-arrow\">LogisticRegression</label><div class=\"sk-toggleable__content\"><pre>LogisticRegression()</pre></div></div></div></div></div>"
     },
     "execution_count": 166,
     "metadata": {},
     "output_type": "execute_result"
    }
   ],
   "source": [
    "from sklearn.linear_model import LogisticRegression\n",
    "\n",
    "\n",
    "#  Creating Logistic regression.\n",
    "log_regression = LogisticRegression().fit(X_train, y_train)\n",
    "LogisticRegression()\n"
   ],
   "metadata": {
    "collapsed": false
   }
  },
  {
   "cell_type": "code",
   "execution_count": 167,
   "outputs": [
    {
     "data": {
      "text/plain": "array([0, 0, 0, ..., 0, 0, 0], dtype=int64)"
     },
     "execution_count": 167,
     "metadata": {},
     "output_type": "execute_result"
    }
   ],
   "source": [
    "# Prediction values.\n",
    "y_pred = log_regression.predict(X_test)\n",
    "y_pred\n"
   ],
   "metadata": {
    "collapsed": false
   }
  },
  {
   "cell_type": "code",
   "execution_count": 168,
   "outputs": [
    {
     "name": "stdout",
     "output_type": "stream",
     "text": [
      "Indexes of all probable candidates:\n",
      "\n",
      "12, 35, 41, 67, 94, 103, 117, 198, 203, 264, 275, 452, 566, 568, 601, 624, 656, 718, 727, 736, 748, 767, 800, 807, 818, 825, 854, 861, 883, 906, 919, 938, 990, 1045, 1064, 1097, 1180, 1234, 1247, 1268, 1277, 1288, 1331, 1344, 1371, 1372, 1401, 1428, 1437, 1468, 1479, 1513, 1557, 1564, 1595, 1602, 1610, 1611, 1628, 1671, 1699, 1718, 1723, 1735, 1758, 1765, 1783, 1809, 1849, 1873, 1891, 1921, 1955, 2026, 2048, 2073, 2078, 2120, 2262, 2274, 2309, 2315, 2352, 2383, 2451, 2474, 2480, 2485, 2529, 2564, 2587, 2601, 2615, 2643, 2664, 2693, 2724, 2739, 2740, 2788, 2834, 2849, 2874, 2916, 2928, 2994, 2996, 3031, 3053, 3066, 3085, 3102, 3118, 3122, 3143, 3173, 3193, 3200, 3234, 3244, 3312, 3350, 3363, 3384, 3410, 3452, 3463, 3525, 3572, 3599, 3626, 3634, 3655, 3658, 3661, 3787, 3791, 3883, 3945, 4041, 4085, 4088, 4102, 4111, 4141, 4174, 4180, 4202, 4204, 4217, 4301, 4412, 4416, 4417, 4428, 4521, 4537, 4559, 4568, 4596, 4651, 4744, 4777, 4796, 4861, 4972, 5033, 5051, 5129, 5130, 5143, 5159, 5196, 5206, 5215, 5251, 5261, 5362, 5391, 5399, 5458, 5540, 5570, 5576, 5600, 5602, 5633, 5678, 5691, 5726, 5733, 5754, 5791, 5835, 5837, 5863, 5865, 5960, 6109, 6112, 6161, 6167, 6194, 6269, 6283, 6338, 6357, 6402, 6430, 6464, 6497, 6539, 6561, 6594, 6612, 6621, 6633, 6683, 6701, 6716, 6785, 6793, 6803, 6816, 6819, 6821, 6823, 6855, 6878, 6972, 6997, 7013, 7041, 7105, 7117, 7126, 7132, 7153, 7179, 7186, 7263, 7300, 7351, 7360, 7394, 7405, 7411, 7420, 7421, 7447, 7512, 7670, 7728, 7739, 7777, 7823, 7835, 7847, 7895, 7903, 7937, 8005, 8022, 8036, 8048, 8156, 8183, 8223, 8254, 8257, 8268, 8272, 8304, 8338, 8361, 8366, 8392, 8455, 8515, 8529, 8544, 8547, 8554, 8586, 8620, 8652, 8655, 8733, 8788, 8831, 8882, 8943, 9105, 9126, 9169, 9199, 9288, 9297, 9313, 9338, 9406, 9409, 9416, 9424, 9476, 9490, 9492, 9558, 9611, 9628, 9661, 9688, 9694, 9707, 9743, 9759, 9810, 9811, 9819, 9915, 9933, 9935, 9937, 9946, 10013, 10019, 10024, 10052, 10099, 10102, 10121, 10130, 10146, 10166, 10178, 10187, 10282, 10283, 10291, 10312, 10349, 10413, 10417, 10442, 10460, 10523, 10524, 10532, 10535, 10558, 10573, 10583, 10594, 10746, 10757, 10828, 10852, 10861, 10883, 10907, 10947, 10976, 11144, 11153, 11158, 11163, 11222, 11223, 11225, 11264, 11325, 11329, 11380, 11390, 11410, 11446, 11479, 11516, 11526, 11531, 11573, 11585, 11681, 11698, 11718, 11762, 11767, 11776, 11812, 11930, 11980, 11990, 12039, 12040, 12058, 12064, 12083, 12093, 12109, 12140, 12180, 12185, 12247, "
     ]
    }
   ],
   "source": [
    "print('Indexes of all probable candidates:\\n')\n",
    "for X in range(len(y_pred)):\n",
    "   if (y_pred[X] == 1):\n",
    "      print(X, end=', ')\n",
    "\n"
   ],
   "metadata": {
    "collapsed": false
   }
  },
  {
   "cell_type": "code",
   "execution_count": 169,
   "outputs": [
    {
     "name": "stdout",
     "output_type": "stream",
     "text": [
      "Accuracy of the Model: 0.90\n"
     ]
    }
   ],
   "source": [
    "# Verifying accuracy.\n",
    "print('Accuracy of the Model: {:.2f}'.format(log_regression.score(X_test, y_test)))\n"
   ],
   "metadata": {
    "collapsed": false
   }
  },
  {
   "cell_type": "markdown",
   "source": [
    "### Завдання 3.\n",
    "* Оцініть модель за допомогою матриці похибок, метрик **precision, recall, F1-score**. Побудуйте AUC-ROC криву для моделі."
   ],
   "metadata": {
    "collapsed": false
   }
  },
  {
   "cell_type": "markdown",
   "source": [
    "#### Confusion matrix:"
   ],
   "metadata": {
    "collapsed": false
   }
  },
  {
   "cell_type": "code",
   "execution_count": 170,
   "outputs": [
    {
     "data": {
      "text/plain": "array([[10850,   131],\n       [ 1104,   272]], dtype=int64)"
     },
     "execution_count": 170,
     "metadata": {},
     "output_type": "execute_result"
    }
   ],
   "source": [
    "from sklearn import metrics\n",
    "\n",
    "\n",
    "# 1. Confusion matrix.\n",
    "cnf_matrix = metrics.confusion_matrix(y_test, y_pred)\n",
    "cnf_matrix\n"
   ],
   "metadata": {
    "collapsed": false
   }
  },
  {
   "cell_type": "code",
   "execution_count": 171,
   "outputs": [
    {
     "data": {
      "text/plain": "<Figure size 640x480 with 2 Axes>",
      "image/png": "[encoded data removed]"
     },
     "metadata": {},
     "output_type": "display_data"
    }
   ],
   "source": [
    "import seaborn as sns\n",
    "import matplotlib.pyplot as plt\n",
    "\n",
    "\n",
    "# Visualisation Confusion matrix.\n",
    "ax = plt.subplot()\n",
    "sns.heatmap(cnf_matrix, annot=True)\n",
    "plt.show()\n"
   ],
   "metadata": {
    "collapsed": false
   }
  },
  {
   "cell_type": "markdown",
   "source": [
    "#### Precision metric:"
   ],
   "metadata": {
    "collapsed": false
   }
  },
  {
   "cell_type": "code",
   "execution_count": 172,
   "outputs": [
    {
     "name": "stdout",
     "output_type": "stream",
     "text": [
      "Precision metric: 0.67\n"
     ]
    }
   ],
   "source": [
    "\n",
    "pres_metric = metrics.precision_score(y_test, y_pred)\n",
    "print('Precision metric: {:.2f}'.format(pres_metric))\n"
   ],
   "metadata": {
    "collapsed": false
   }
  },
  {
   "cell_type": "markdown",
   "source": [
    "#### Recall metric:"
   ],
   "metadata": {
    "collapsed": false
   }
  },
  {
   "cell_type": "code",
   "execution_count": 173,
   "outputs": [
    {
     "name": "stdout",
     "output_type": "stream",
     "text": [
      "Recall metric: 0.20\n"
     ]
    }
   ],
   "source": [
    "rec_metric = metrics.recall_score(y_test, y_pred)\n",
    "print('Recall metric: {:.2f}'.format(rec_metric))\n"
   ],
   "metadata": {
    "collapsed": false
   }
  },
  {
   "cell_type": "markdown",
   "source": [
    "#### F1-score model:"
   ],
   "metadata": {
    "collapsed": false
   }
  },
  {
   "cell_type": "code",
   "execution_count": 174,
   "outputs": [
    {
     "name": "stdout",
     "output_type": "stream",
     "text": [
      "F1-score model: [0.94615217 0.30578977]\n"
     ]
    }
   ],
   "source": [
    "from sklearn import metrics\n",
    "\n",
    "\n",
    "f_1 = metrics.f1_score(y_test, y_pred, average=None)\n",
    "print('F1-score model:', f_1)\n"
   ],
   "metadata": {
    "collapsed": false
   }
  },
  {
   "cell_type": "markdown",
   "source": [
    "#### Creating AUC-ROC model:"
   ],
   "metadata": {
    "collapsed": false
   }
  },
  {
   "cell_type": "code",
   "execution_count": 175,
   "outputs": [
    {
     "name": "stdout",
     "output_type": "stream",
     "text": [
      "AUC-ROC model has been created!\n"
     ]
    }
   ],
   "source": [
    "y_pred_proba = log_regression.predict_proba(X_test)[::,1]\n",
    "fpr, tpr, _ = metrics.roc_curve (y_test, y_pred_proba)\n",
    "auc = metrics.roc_auc_score (y_test, y_pred_proba)\n",
    "\n",
    "print('AUC-ROC model has been created!')\n"
   ],
   "metadata": {
    "collapsed": false
   }
  },
  {
   "cell_type": "code",
   "execution_count": 177,
   "outputs": [
    {
     "data": {
      "text/plain": "<Figure size 640x480 with 1 Axes>",
      "image/png": "[encoded data removed]"
     },
     "metadata": {},
     "output_type": "display_data"
    }
   ],
   "source": [
    "import matplotlib.pyplot as plt\n",
    "\n",
    "# Visualisation AUC-ROC model.\n",
    "plt.plot(fpr, tpr, label=' AUC= ' + str(auc))\n",
    "plt.title('ROC curve')\n",
    "plt.legend(loc=4)\n",
    "plt.show()\n"
   ],
   "metadata": {
    "collapsed": false
   }
  },
  {
   "cell_type": "code",
   "execution_count": null,
   "outputs": [],
   "source": [],
   "metadata": {
    "collapsed": false
   }
  }
 ],
 "metadata": {
  "kernelspec": {
   "display_name": "Python 3",
   "language": "python",
   "name": "python3"
  },
  "language_info": {
   "codemirror_mode": {
    "name": "ipython",
    "version": 2
   },
   "file_extension": ".py",
   "mimetype": "text/x-python",
   "name": "python",
   "nbconvert_exporter": "python",
   "pygments_lexer": "ipython2",
   "version": "2.7.6"
  }
 },
 "nbformat": 4,
 "nbformat_minor": 0
}
